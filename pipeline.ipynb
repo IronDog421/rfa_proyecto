{
 "cells": [
  {
   "cell_type": "markdown",
   "id": "4e205d2a",
   "metadata": {},
   "source": [
    "# Testing purpouses only\n",
    "\n",
    "This notebook does not belong to the project pipeline, its use is only intended for single component experimentation."
   ]
  },
  {
   "cell_type": "markdown",
   "id": "fea0c735",
   "metadata": {},
   "source": [
    "**Note:** this notebook should be executed on a platform with available video devices mounted. wsl2 cannot access windows mounts by default."
   ]
  },
  {
   "cell_type": "code",
   "execution_count": null,
   "id": "0d6f4d2c",
   "metadata": {},
   "outputs": [],
   "source": [
    "import cv2\n",
    "from ultralytics import YOLO\n",
    "import matplotlib.pyplot as plt"
   ]
  },
  {
   "cell_type": "code",
   "execution_count": null,
   "id": "dd0c548e",
   "metadata": {},
   "outputs": [],
   "source": [
    "cap = cv2.VideoCapture(0)\n",
    "face_detector = YOLO(\"Models/yolov11s-face.pt\")\n",
    "drowsiness_detector = YOLO(\"Models/best.pt\")"
   ]
  },
  {
   "cell_type": "code",
   "execution_count": null,
   "id": "eb044269",
   "metadata": {},
   "outputs": [],
   "source": [
    "ret, frame = cap.read()\n",
    "cap.release()\n",
    "\n",
    "if ret:\n",
    "    frame_rgb = cv2.cvtColor(frame, cv2.COLOR_BGR2RGB)\n",
    "\n",
    "    plt.imshow(frame_rgb)\n",
    "    plt.axis(\"off\")\n",
    "    plt.show()\n",
    "else:\n",
    "    print(\"Image capture failed.\")"
   ]
  },
  {
   "cell_type": "code",
   "execution_count": null,
   "id": "b07ee958",
   "metadata": {},
   "outputs": [],
   "source": [
    "results = face_detector(frame_rgb)\n",
    "\n",
    "cropped_faces = []\n",
    "\n",
    "for result in results:\n",
    "    annotated_frame = result.plot()\n",
    "    plt.imshow(annotated_frame)\n",
    "    plt.axis(\"off\")\n",
    "    plt.show()"
   ]
  },
  {
   "cell_type": "code",
   "execution_count": null,
   "id": "36e827a4",
   "metadata": {},
   "outputs": [],
   "source": [
    "cropped_faces = []\n",
    "for result in results:\n",
    "    for box in result.boxes:\n",
    "        x1, y1, x2, y2 = map(int, box.xyxy[0])\n",
    "        cropped_face = frame_rgb[y1:y2, x1:x2]\n",
    "        cropped_faces.append(cropped_face)\n",
    "        plt.imshow(cropped_face)\n",
    "        plt.axis(\"off\")\n",
    "        plt.show()"
   ]
  },
  {
   "cell_type": "code",
   "execution_count": null,
   "id": "99522bf4",
   "metadata": {},
   "outputs": [],
   "source": [
    "results = drowsiness_detector(cropped_faces)\n",
    "\n",
    "labels = [\"Drowsy\", \"Non drowsy\"]\n",
    "\n",
    "n = len(results)\n",
    "fig, axes = plt.subplots(1, n, figsize=(3 * n, 3))\n",
    "if n == 1:\n",
    "    axes = [axes]\n",
    "\n",
    "for ax, element, img in zip(axes, results, cropped_faces):\n",
    "    top1 = element.probs.top1\n",
    "    prob_val = float(top1)\n",
    "\n",
    "    title = f\"{labels[0]} ({1 - prob_val:.2f})\" if prob_val < 0.5 else f\"{labels[1]} ({prob_val:.2f})\"\n",
    "    ax.imshow(img)\n",
    "    ax.set_title(title)\n",
    "    ax.axis(\"off\")\n",
    "\n",
    "plt.tight_layout()\n",
    "plt.show()"
   ]
  }
 ],
 "metadata": {
  "kernelspec": {
   "display_name": "Python 3",
   "language": "python",
   "name": "python3"
  },
  "language_info": {
   "codemirror_mode": {
    "name": "ipython",
    "version": 3
   },
   "file_extension": ".py",
   "mimetype": "text/x-python",
   "name": "python",
   "nbconvert_exporter": "python",
   "pygments_lexer": "ipython3",
   "version": "3.11.9"
  }
 },
 "nbformat": 4,
 "nbformat_minor": 5
}
